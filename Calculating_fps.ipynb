{
 "cells": [
  {
   "cell_type": "code",
   "execution_count": 3,
   "id": "0918aa45-e11f-44c4-a3a0-7d623d9940e8",
   "metadata": {},
   "outputs": [],
   "source": [
    "import os\n",
    "import glob"
   ]
  },
  {
   "cell_type": "code",
   "execution_count": null,
   "id": "6a5ea1f6",
   "metadata": {},
   "outputs": [
    {
     "data": {
      "text/plain": [
       "['AtomPairs2DFingerprintCount.xml',\n",
       " 'AtomPairs2DFingerprinter.xml',\n",
       " 'EStateFingerprinter.xml',\n",
       " 'ExtendedFingerprinter.xml',\n",
       " 'Fingerprinter.xml',\n",
       " 'GraphOnlyFingerprinter.xml',\n",
       " 'KlekotaRothFingerprintCount.xml',\n",
       " 'KlekotaRothFingerprinter.xml',\n",
       " 'MACCSFingerprinter.xml',\n",
       " 'PubchemFingerprinter.xml',\n",
       " 'SubstructureFingerprintCount.xml',\n",
       " 'SubstructureFingerprinter.xml']"
      ]
     },
     "execution_count": 5,
     "metadata": {},
     "output_type": "execute_result"
    }
   ],
   "source": [
    "\n",
    "xml_files = glob.glob(\"xmls/*.xml\")\n",
    "xml_files.sort()\n",
    "xml_files"
   ]
  },
  {
   "cell_type": "code",
   "execution_count": 6,
   "id": "eed97dea",
   "metadata": {},
   "outputs": [],
   "source": [
    "FP_list = ['AtomPairs2DCount',\n",
    " 'AtomPairs2D',\n",
    " 'EState',\n",
    " 'CDKextended',\n",
    " 'CDK',\n",
    " 'CDKgraphonly',\n",
    " 'KlekotaRothCount',\n",
    " 'KlekotaRoth',\n",
    " 'MACCS',\n",
    " 'PubChem',\n",
    " 'SubstructureCount',\n",
    " 'Substructure']"
   ]
  },
  {
   "cell_type": "code",
   "execution_count": 7,
   "id": "d15072fc",
   "metadata": {},
   "outputs": [
    {
     "data": {
      "text/plain": [
       "{'AtomPairs2DCount': 'AtomPairs2DFingerprintCount.xml',\n",
       " 'AtomPairs2D': 'AtomPairs2DFingerprinter.xml',\n",
       " 'EState': 'EStateFingerprinter.xml',\n",
       " 'CDKextended': 'ExtendedFingerprinter.xml',\n",
       " 'CDK': 'Fingerprinter.xml',\n",
       " 'CDKgraphonly': 'GraphOnlyFingerprinter.xml',\n",
       " 'KlekotaRothCount': 'KlekotaRothFingerprintCount.xml',\n",
       " 'KlekotaRoth': 'KlekotaRothFingerprinter.xml',\n",
       " 'MACCS': 'MACCSFingerprinter.xml',\n",
       " 'PubChem': 'PubchemFingerprinter.xml',\n",
       " 'SubstructureCount': 'SubstructureFingerprintCount.xml',\n",
       " 'Substructure': 'SubstructureFingerprinter.xml'}"
      ]
     },
     "execution_count": 7,
     "metadata": {},
     "output_type": "execute_result"
    }
   ],
   "source": [
    "fp = dict(zip(FP_list, xml_files))\n",
    "fp"
   ]
  },
  {
   "cell_type": "markdown",
   "id": "b3e2df69",
   "metadata": {},
   "source": [
    "### Download All Fingerprints at Once \n",
    "Will take longer time to complete"
   ]
  },
  {
   "cell_type": "code",
   "execution_count": null,
   "id": "a5a75d70",
   "metadata": {},
   "outputs": [],
   "source": [
    "mol_dir = 'Cell-Line SMILES/SKBR-3.smi' # SMI File Located in Cell-Line Smiles directory"
   ]
  },
  {
   "cell_type": "code",
   "execution_count": null,
   "id": "045e3f9e",
   "metadata": {},
   "outputs": [],
   "source": [
    "from padelpy import padeldescriptor\n",
    "\n",
    "\n",
    "for fingerprint,xml in fp.items():\n",
    "    cell_line_dir = os.path.basename(mol_dir)\n",
    "    cell_line_dir = cell_line_dir.split('.')[0] \n",
    "    os.makedirs(cell_line_dir,exist_ok=True)\n",
    "\n",
    "    fingerprint_output_file = ''.join([fingerprint,'.csv'])\n",
    "    fingerprint_output_file = os.path.join(cell_line_dir+'_FINGERPRINTS',fingerprint_output_file)\n",
    "    \n",
    "    fingerprint_descriptortypes = fp[fingerprint]\n",
    "    padeldescriptor(mol_dir=mol_dir, \n",
    "                    d_file=fingerprint_output_file, #'Substructure.csv'\n",
    "                    #descriptortypes='SubstructureFingerprint.xml', \n",
    "                    descriptortypes= fingerprint_descriptortypes,\n",
    "                    detectaromaticity=True,\n",
    "                    standardizenitro=True,\n",
    "                    standardizetautomers=True,\n",
    "                    threads=15,\n",
    "                    removesalt=True,\n",
    "                    log=True,\n",
    "                    fingerprints=True)\n",
    "    print(fingerprint)"
   ]
  },
  {
   "cell_type": "markdown",
   "id": "45f4211c",
   "metadata": {},
   "source": [
    "### Download One Fingerprint at a time"
   ]
  },
  {
   "cell_type": "code",
   "execution_count": 14,
   "id": "360992bf",
   "metadata": {},
   "outputs": [],
   "source": [
    "from padelpy import padeldescriptor\n",
    "# Exter\n",
    "fingerprint = 'AtomPairs2DCount'\n",
    "\n",
    "\n",
    "mol_dir = 'Cell-Line SMILES/SKBR-3.smi' # SMI File Located in Cell-Line Smiles directory\n",
    "\n",
    "cell_line_dir = mol_dir.split('.')[0] \n",
    "os.makedirs(cell_line_dir,exist_ok=True)\n",
    "\n",
    "fingerprint_output_file = ''.join([fingerprint,'.csv'])\n",
    "fingerprint_output_file = os.path.join(cell_line_dir+'_FINGERPRINTS',fingerprint_output_file)\n",
    "\n",
    "padeldescriptor(mol_dir=mol_dir, \n",
    "                d_file=fingerprint_output_file, #'Substructure.csv'\n",
    "                #descriptortypes='SubstructureFingerprint.xml', \n",
    "                descriptortypes= fingerprint_descriptortypes,\n",
    "                detectaromaticity=True,\n",
    "                standardizenitro=True,\n",
    "                standardizetautomers=True,\n",
    "                threads=10,\n",
    "                removesalt=True,\n",
    "                log=True,\n",
    "                fingerprints=True)"
   ]
  }
 ],
 "metadata": {
  "kernelspec": {
   "display_name": "Python 3 (ipykernel)",
   "language": "python",
   "name": "python3"
  },
  "language_info": {
   "codemirror_mode": {
    "name": "ipython",
    "version": 3
   },
   "file_extension": ".py",
   "mimetype": "text/x-python",
   "name": "python",
   "nbconvert_exporter": "python",
   "pygments_lexer": "ipython3",
   "version": "3.11.4"
  }
 },
 "nbformat": 4,
 "nbformat_minor": 5
}
