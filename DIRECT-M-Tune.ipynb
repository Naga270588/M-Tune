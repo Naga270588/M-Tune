{
 "cells": [
  {
   "cell_type": "code",
   "execution_count": 1,
   "id": "4adb0c98-d7a5-4968-bcc0-8e551a2169d2",
   "metadata": {},
   "outputs": [],
   "source": [
    "import numpy as np\n",
    "import pandas as pd\n",
    "\n",
    "import matplotlib.pyplot as plt\n",
    "import seaborn as sns\n",
    "\n",
    "from sklearn.model_selection import train_test_split\n",
    "from sklearn.utils import resample\n",
    "from sklearn.metrics import \\\n",
    "                accuracy_score, \\\n",
    "                classification_report, \\\n",
    "                cohen_kappa_score, \\\n",
    "                matthews_corrcoef, \\\n",
    "                confusion_matrix, \\\n",
    "                roc_auc_score\n",
    "\n",
    "                \n",
    "import xgboost as xgb"
   ]
  },
  {
   "cell_type": "code",
   "execution_count": 2,
   "id": "804acd2c-196d-4e35-a20a-9fe338334640",
   "metadata": {},
   "outputs": [],
   "source": [
    "def eval_metrics(y_true, y_pred):\n",
    "    kappa = metrics.cohen_kappa_score(y_true, y_pred)\n",
    "    #print(f\"Cohen's Kappa: {kappa:.2f}\")\n",
    "    \n",
    "    # Calculate confusion matrix\n",
    "    tn, fp, fn, tp = metrics.confusion_matrix(y_true, y_pred).ravel()\n",
    "    \n",
    "    # Calculate TPR (True Positive Rate), TNR (True Negative Rate), Precision\n",
    "    TPR = tp / (tp + fn)\n",
    "    TNR = tn / (tn + fp)\n",
    "    precision = tp / (tp + fp)\n",
    "    \n",
    "    # print(f\"True Positive Rate (TPR): {TPR:.2f}\")\n",
    "    # print(f\"True Negative Rate (TNR): {TNR:.2f}\")\n",
    "    # print(f\"Precision: {precision:.2f}\")\n",
    "\n",
    "    return {'kappa':kappa,'TPR':TPR,'TNR':TNR,'precision':precision}\n",
    "\n",
    "def evaluate_performance(y_true,y_pred,pred_prob='NA'):\n",
    "    cr = classification_report(y_true,y_pred)\n",
    "    filtered_cr = [ line for line in cr.split('\\n') if len(line)!=0]\n",
    "\n",
    "    precision_0 = float(filtered_cr[1].split()[1])\n",
    "    recall_0 = float(filtered_cr[1].split()[2])\n",
    "    f1_0 = float(filtered_cr[1].split()[3])\n",
    "    \n",
    "    precision_1 = float(filtered_cr[2].split()[1])\n",
    "    recall_1 = float(filtered_cr[2].split()[2])\n",
    "    f1_1 = float(filtered_cr[2].split()[3])\n",
    "\n",
    "    balanced_accuracy = (recall_0 + recall_1)/2\n",
    "    acc_score = accuracy_score(y_true,y_pred)\n",
    "    cohen_kappa = cohen_kappa_score(y_true,y_pred)\n",
    "    matthews_corrcoef_score = matthews_corrcoef(y_true,y_pred)\n",
    "    \n",
    "    if pred_prob != 'NA':\n",
    "        roc_auc = roc_auc_score(y_true,pred_prob)\n",
    "    else:\n",
    "        roc_auc = pred_prob\n",
    "    \n",
    "\n",
    "    tn, fp, fn, tp = confusion_matrix(y_true, y_pred).ravel()\n",
    "    \n",
    "    temp = dict(\n",
    "        precision_0 = precision_0,\n",
    "        precision_1 = precision_1,\n",
    "        recall_0 = recall_0,\n",
    "        recall_1 = recall_1,\n",
    "        f1_0 = f1_0,\n",
    "        f1_1 = f1_1,\n",
    "        accuracy = acc_score,\n",
    "        balanced_accuracy = balanced_accuracy,\n",
    "        cohen_kappa = cohen_kappa,\n",
    "        matthews_corrcoef_score = matthews_corrcoef_score,\n",
    "        roc_auc_score = roc_auc,\n",
    "        \n",
    "        tn = tn,\n",
    "        fp = fp,\n",
    "        fn = fn,\n",
    "        tp = tp\n",
    "    )\n",
    "\n",
    "    return temp\n"
   ]
  },
  {
   "cell_type": "markdown",
   "id": "85081455-1d80-408c-b994-25a7636ee238",
   "metadata": {},
   "source": [
    "## Data Loading"
   ]
  },
  {
   "cell_type": "code",
   "execution_count": 3,
   "id": "63313792-768c-4f88-b60e-65e435bd6893",
   "metadata": {},
   "outputs": [
    {
     "ename": "FileNotFoundError",
     "evalue": "[Errno 2] No such file or directory: '/path/to/fingerprint.csv'",
     "output_type": "error",
     "traceback": [
      "\u001b[1;31m---------------------------------------------------------------------------\u001b[0m",
      "\u001b[1;31mFileNotFoundError\u001b[0m                         Traceback (most recent call last)",
      "Cell \u001b[1;32mIn[3], line 1\u001b[0m\n\u001b[1;32m----> 1\u001b[0m df \u001b[38;5;241m=\u001b[39m \u001b[43mpd\u001b[49m\u001b[38;5;241;43m.\u001b[39;49m\u001b[43mread_csv\u001b[49m\u001b[43m(\u001b[49m\u001b[38;5;124;43m'\u001b[39;49m\u001b[38;5;124;43m/path/to/fingerprint.csv\u001b[39;49m\u001b[38;5;124;43m'\u001b[39;49m\u001b[43m)\u001b[49m\n\u001b[0;32m      2\u001b[0m \u001b[38;5;66;03m# Set a seed for reproducibility (e.g., 42)\u001b[39;00m\n\u001b[0;32m      3\u001b[0m seed \u001b[38;5;241m=\u001b[39m \u001b[38;5;241m42\u001b[39m\n",
      "File \u001b[1;32m~\\AppData\\Local\\Programs\\Python\\Python311\\Lib\\site-packages\\pandas\\io\\parsers\\readers.py:1026\u001b[0m, in \u001b[0;36mread_csv\u001b[1;34m(filepath_or_buffer, sep, delimiter, header, names, index_col, usecols, dtype, engine, converters, true_values, false_values, skipinitialspace, skiprows, skipfooter, nrows, na_values, keep_default_na, na_filter, verbose, skip_blank_lines, parse_dates, infer_datetime_format, keep_date_col, date_parser, date_format, dayfirst, cache_dates, iterator, chunksize, compression, thousands, decimal, lineterminator, quotechar, quoting, doublequote, escapechar, comment, encoding, encoding_errors, dialect, on_bad_lines, delim_whitespace, low_memory, memory_map, float_precision, storage_options, dtype_backend)\u001b[0m\n\u001b[0;32m   1013\u001b[0m kwds_defaults \u001b[38;5;241m=\u001b[39m _refine_defaults_read(\n\u001b[0;32m   1014\u001b[0m     dialect,\n\u001b[0;32m   1015\u001b[0m     delimiter,\n\u001b[1;32m   (...)\u001b[0m\n\u001b[0;32m   1022\u001b[0m     dtype_backend\u001b[38;5;241m=\u001b[39mdtype_backend,\n\u001b[0;32m   1023\u001b[0m )\n\u001b[0;32m   1024\u001b[0m kwds\u001b[38;5;241m.\u001b[39mupdate(kwds_defaults)\n\u001b[1;32m-> 1026\u001b[0m \u001b[38;5;28;01mreturn\u001b[39;00m \u001b[43m_read\u001b[49m\u001b[43m(\u001b[49m\u001b[43mfilepath_or_buffer\u001b[49m\u001b[43m,\u001b[49m\u001b[43m \u001b[49m\u001b[43mkwds\u001b[49m\u001b[43m)\u001b[49m\n",
      "File \u001b[1;32m~\\AppData\\Local\\Programs\\Python\\Python311\\Lib\\site-packages\\pandas\\io\\parsers\\readers.py:620\u001b[0m, in \u001b[0;36m_read\u001b[1;34m(filepath_or_buffer, kwds)\u001b[0m\n\u001b[0;32m    617\u001b[0m _validate_names(kwds\u001b[38;5;241m.\u001b[39mget(\u001b[38;5;124m\"\u001b[39m\u001b[38;5;124mnames\u001b[39m\u001b[38;5;124m\"\u001b[39m, \u001b[38;5;28;01mNone\u001b[39;00m))\n\u001b[0;32m    619\u001b[0m \u001b[38;5;66;03m# Create the parser.\u001b[39;00m\n\u001b[1;32m--> 620\u001b[0m parser \u001b[38;5;241m=\u001b[39m \u001b[43mTextFileReader\u001b[49m\u001b[43m(\u001b[49m\u001b[43mfilepath_or_buffer\u001b[49m\u001b[43m,\u001b[49m\u001b[43m \u001b[49m\u001b[38;5;241;43m*\u001b[39;49m\u001b[38;5;241;43m*\u001b[39;49m\u001b[43mkwds\u001b[49m\u001b[43m)\u001b[49m\n\u001b[0;32m    622\u001b[0m \u001b[38;5;28;01mif\u001b[39;00m chunksize \u001b[38;5;129;01mor\u001b[39;00m iterator:\n\u001b[0;32m    623\u001b[0m     \u001b[38;5;28;01mreturn\u001b[39;00m parser\n",
      "File \u001b[1;32m~\\AppData\\Local\\Programs\\Python\\Python311\\Lib\\site-packages\\pandas\\io\\parsers\\readers.py:1620\u001b[0m, in \u001b[0;36mTextFileReader.__init__\u001b[1;34m(self, f, engine, **kwds)\u001b[0m\n\u001b[0;32m   1617\u001b[0m     \u001b[38;5;28mself\u001b[39m\u001b[38;5;241m.\u001b[39moptions[\u001b[38;5;124m\"\u001b[39m\u001b[38;5;124mhas_index_names\u001b[39m\u001b[38;5;124m\"\u001b[39m] \u001b[38;5;241m=\u001b[39m kwds[\u001b[38;5;124m\"\u001b[39m\u001b[38;5;124mhas_index_names\u001b[39m\u001b[38;5;124m\"\u001b[39m]\n\u001b[0;32m   1619\u001b[0m \u001b[38;5;28mself\u001b[39m\u001b[38;5;241m.\u001b[39mhandles: IOHandles \u001b[38;5;241m|\u001b[39m \u001b[38;5;28;01mNone\u001b[39;00m \u001b[38;5;241m=\u001b[39m \u001b[38;5;28;01mNone\u001b[39;00m\n\u001b[1;32m-> 1620\u001b[0m \u001b[38;5;28mself\u001b[39m\u001b[38;5;241m.\u001b[39m_engine \u001b[38;5;241m=\u001b[39m \u001b[38;5;28;43mself\u001b[39;49m\u001b[38;5;241;43m.\u001b[39;49m\u001b[43m_make_engine\u001b[49m\u001b[43m(\u001b[49m\u001b[43mf\u001b[49m\u001b[43m,\u001b[49m\u001b[43m \u001b[49m\u001b[38;5;28;43mself\u001b[39;49m\u001b[38;5;241;43m.\u001b[39;49m\u001b[43mengine\u001b[49m\u001b[43m)\u001b[49m\n",
      "File \u001b[1;32m~\\AppData\\Local\\Programs\\Python\\Python311\\Lib\\site-packages\\pandas\\io\\parsers\\readers.py:1880\u001b[0m, in \u001b[0;36mTextFileReader._make_engine\u001b[1;34m(self, f, engine)\u001b[0m\n\u001b[0;32m   1878\u001b[0m     \u001b[38;5;28;01mif\u001b[39;00m \u001b[38;5;124m\"\u001b[39m\u001b[38;5;124mb\u001b[39m\u001b[38;5;124m\"\u001b[39m \u001b[38;5;129;01mnot\u001b[39;00m \u001b[38;5;129;01min\u001b[39;00m mode:\n\u001b[0;32m   1879\u001b[0m         mode \u001b[38;5;241m+\u001b[39m\u001b[38;5;241m=\u001b[39m \u001b[38;5;124m\"\u001b[39m\u001b[38;5;124mb\u001b[39m\u001b[38;5;124m\"\u001b[39m\n\u001b[1;32m-> 1880\u001b[0m \u001b[38;5;28mself\u001b[39m\u001b[38;5;241m.\u001b[39mhandles \u001b[38;5;241m=\u001b[39m \u001b[43mget_handle\u001b[49m\u001b[43m(\u001b[49m\n\u001b[0;32m   1881\u001b[0m \u001b[43m    \u001b[49m\u001b[43mf\u001b[49m\u001b[43m,\u001b[49m\n\u001b[0;32m   1882\u001b[0m \u001b[43m    \u001b[49m\u001b[43mmode\u001b[49m\u001b[43m,\u001b[49m\n\u001b[0;32m   1883\u001b[0m \u001b[43m    \u001b[49m\u001b[43mencoding\u001b[49m\u001b[38;5;241;43m=\u001b[39;49m\u001b[38;5;28;43mself\u001b[39;49m\u001b[38;5;241;43m.\u001b[39;49m\u001b[43moptions\u001b[49m\u001b[38;5;241;43m.\u001b[39;49m\u001b[43mget\u001b[49m\u001b[43m(\u001b[49m\u001b[38;5;124;43m\"\u001b[39;49m\u001b[38;5;124;43mencoding\u001b[39;49m\u001b[38;5;124;43m\"\u001b[39;49m\u001b[43m,\u001b[49m\u001b[43m \u001b[49m\u001b[38;5;28;43;01mNone\u001b[39;49;00m\u001b[43m)\u001b[49m\u001b[43m,\u001b[49m\n\u001b[0;32m   1884\u001b[0m \u001b[43m    \u001b[49m\u001b[43mcompression\u001b[49m\u001b[38;5;241;43m=\u001b[39;49m\u001b[38;5;28;43mself\u001b[39;49m\u001b[38;5;241;43m.\u001b[39;49m\u001b[43moptions\u001b[49m\u001b[38;5;241;43m.\u001b[39;49m\u001b[43mget\u001b[49m\u001b[43m(\u001b[49m\u001b[38;5;124;43m\"\u001b[39;49m\u001b[38;5;124;43mcompression\u001b[39;49m\u001b[38;5;124;43m\"\u001b[39;49m\u001b[43m,\u001b[49m\u001b[43m \u001b[49m\u001b[38;5;28;43;01mNone\u001b[39;49;00m\u001b[43m)\u001b[49m\u001b[43m,\u001b[49m\n\u001b[0;32m   1885\u001b[0m \u001b[43m    \u001b[49m\u001b[43mmemory_map\u001b[49m\u001b[38;5;241;43m=\u001b[39;49m\u001b[38;5;28;43mself\u001b[39;49m\u001b[38;5;241;43m.\u001b[39;49m\u001b[43moptions\u001b[49m\u001b[38;5;241;43m.\u001b[39;49m\u001b[43mget\u001b[49m\u001b[43m(\u001b[49m\u001b[38;5;124;43m\"\u001b[39;49m\u001b[38;5;124;43mmemory_map\u001b[39;49m\u001b[38;5;124;43m\"\u001b[39;49m\u001b[43m,\u001b[49m\u001b[43m \u001b[49m\u001b[38;5;28;43;01mFalse\u001b[39;49;00m\u001b[43m)\u001b[49m\u001b[43m,\u001b[49m\n\u001b[0;32m   1886\u001b[0m \u001b[43m    \u001b[49m\u001b[43mis_text\u001b[49m\u001b[38;5;241;43m=\u001b[39;49m\u001b[43mis_text\u001b[49m\u001b[43m,\u001b[49m\n\u001b[0;32m   1887\u001b[0m \u001b[43m    \u001b[49m\u001b[43merrors\u001b[49m\u001b[38;5;241;43m=\u001b[39;49m\u001b[38;5;28;43mself\u001b[39;49m\u001b[38;5;241;43m.\u001b[39;49m\u001b[43moptions\u001b[49m\u001b[38;5;241;43m.\u001b[39;49m\u001b[43mget\u001b[49m\u001b[43m(\u001b[49m\u001b[38;5;124;43m\"\u001b[39;49m\u001b[38;5;124;43mencoding_errors\u001b[39;49m\u001b[38;5;124;43m\"\u001b[39;49m\u001b[43m,\u001b[49m\u001b[43m \u001b[49m\u001b[38;5;124;43m\"\u001b[39;49m\u001b[38;5;124;43mstrict\u001b[39;49m\u001b[38;5;124;43m\"\u001b[39;49m\u001b[43m)\u001b[49m\u001b[43m,\u001b[49m\n\u001b[0;32m   1888\u001b[0m \u001b[43m    \u001b[49m\u001b[43mstorage_options\u001b[49m\u001b[38;5;241;43m=\u001b[39;49m\u001b[38;5;28;43mself\u001b[39;49m\u001b[38;5;241;43m.\u001b[39;49m\u001b[43moptions\u001b[49m\u001b[38;5;241;43m.\u001b[39;49m\u001b[43mget\u001b[49m\u001b[43m(\u001b[49m\u001b[38;5;124;43m\"\u001b[39;49m\u001b[38;5;124;43mstorage_options\u001b[39;49m\u001b[38;5;124;43m\"\u001b[39;49m\u001b[43m,\u001b[49m\u001b[43m \u001b[49m\u001b[38;5;28;43;01mNone\u001b[39;49;00m\u001b[43m)\u001b[49m\u001b[43m,\u001b[49m\n\u001b[0;32m   1889\u001b[0m \u001b[43m\u001b[49m\u001b[43m)\u001b[49m\n\u001b[0;32m   1890\u001b[0m \u001b[38;5;28;01massert\u001b[39;00m \u001b[38;5;28mself\u001b[39m\u001b[38;5;241m.\u001b[39mhandles \u001b[38;5;129;01mis\u001b[39;00m \u001b[38;5;129;01mnot\u001b[39;00m \u001b[38;5;28;01mNone\u001b[39;00m\n\u001b[0;32m   1891\u001b[0m f \u001b[38;5;241m=\u001b[39m \u001b[38;5;28mself\u001b[39m\u001b[38;5;241m.\u001b[39mhandles\u001b[38;5;241m.\u001b[39mhandle\n",
      "File \u001b[1;32m~\\AppData\\Local\\Programs\\Python\\Python311\\Lib\\site-packages\\pandas\\io\\common.py:873\u001b[0m, in \u001b[0;36mget_handle\u001b[1;34m(path_or_buf, mode, encoding, compression, memory_map, is_text, errors, storage_options)\u001b[0m\n\u001b[0;32m    868\u001b[0m \u001b[38;5;28;01melif\u001b[39;00m \u001b[38;5;28misinstance\u001b[39m(handle, \u001b[38;5;28mstr\u001b[39m):\n\u001b[0;32m    869\u001b[0m     \u001b[38;5;66;03m# Check whether the filename is to be opened in binary mode.\u001b[39;00m\n\u001b[0;32m    870\u001b[0m     \u001b[38;5;66;03m# Binary mode does not support 'encoding' and 'newline'.\u001b[39;00m\n\u001b[0;32m    871\u001b[0m     \u001b[38;5;28;01mif\u001b[39;00m ioargs\u001b[38;5;241m.\u001b[39mencoding \u001b[38;5;129;01mand\u001b[39;00m \u001b[38;5;124m\"\u001b[39m\u001b[38;5;124mb\u001b[39m\u001b[38;5;124m\"\u001b[39m \u001b[38;5;129;01mnot\u001b[39;00m \u001b[38;5;129;01min\u001b[39;00m ioargs\u001b[38;5;241m.\u001b[39mmode:\n\u001b[0;32m    872\u001b[0m         \u001b[38;5;66;03m# Encoding\u001b[39;00m\n\u001b[1;32m--> 873\u001b[0m         handle \u001b[38;5;241m=\u001b[39m \u001b[38;5;28;43mopen\u001b[39;49m\u001b[43m(\u001b[49m\n\u001b[0;32m    874\u001b[0m \u001b[43m            \u001b[49m\u001b[43mhandle\u001b[49m\u001b[43m,\u001b[49m\n\u001b[0;32m    875\u001b[0m \u001b[43m            \u001b[49m\u001b[43mioargs\u001b[49m\u001b[38;5;241;43m.\u001b[39;49m\u001b[43mmode\u001b[49m\u001b[43m,\u001b[49m\n\u001b[0;32m    876\u001b[0m \u001b[43m            \u001b[49m\u001b[43mencoding\u001b[49m\u001b[38;5;241;43m=\u001b[39;49m\u001b[43mioargs\u001b[49m\u001b[38;5;241;43m.\u001b[39;49m\u001b[43mencoding\u001b[49m\u001b[43m,\u001b[49m\n\u001b[0;32m    877\u001b[0m \u001b[43m            \u001b[49m\u001b[43merrors\u001b[49m\u001b[38;5;241;43m=\u001b[39;49m\u001b[43merrors\u001b[49m\u001b[43m,\u001b[49m\n\u001b[0;32m    878\u001b[0m \u001b[43m            \u001b[49m\u001b[43mnewline\u001b[49m\u001b[38;5;241;43m=\u001b[39;49m\u001b[38;5;124;43m\"\u001b[39;49m\u001b[38;5;124;43m\"\u001b[39;49m\u001b[43m,\u001b[49m\n\u001b[0;32m    879\u001b[0m \u001b[43m        \u001b[49m\u001b[43m)\u001b[49m\n\u001b[0;32m    880\u001b[0m     \u001b[38;5;28;01melse\u001b[39;00m:\n\u001b[0;32m    881\u001b[0m         \u001b[38;5;66;03m# Binary mode\u001b[39;00m\n\u001b[0;32m    882\u001b[0m         handle \u001b[38;5;241m=\u001b[39m \u001b[38;5;28mopen\u001b[39m(handle, ioargs\u001b[38;5;241m.\u001b[39mmode)\n",
      "\u001b[1;31mFileNotFoundError\u001b[0m: [Errno 2] No such file or directory: '/path/to/fingerprint.csv'"
     ]
    }
   ],
   "source": [
    "df = pd.read_csv(r\"E:\\HILLUL\\Nagamani Sir\\TAPOS-KU-INTERN\\COMPILING-MTUNE-REQUIREMENTS\\1 Cell-Line Dataset ghost VS mtune\\TGF-B Train FP\\AtomPairs2DCount.csv\")\n",
    "# df = pd.read_csv('/path/to/fingerprint.csv')\n",
    "# Set a seed for reproducibility (e.g., 42)\n",
    "seed = 42\n",
    "\n",
    "# Shuffle the DataFrame with the seed\n",
    "df = df.sample(frac=1, random_state=seed)\n",
    "df['Name'].value_counts()"
   ]
  },
  {
   "cell_type": "code",
   "execution_count": null,
   "id": "3f6364f2-a901-4b4f-b215-554f2db7545c",
   "metadata": {},
   "outputs": [],
   "source": []
  },
  {
   "cell_type": "markdown",
   "id": "de526ef4-7a45-4445-945a-b11a8bd5d18c",
   "metadata": {},
   "source": [
    "# Train - Test split"
   ]
  },
  {
   "cell_type": "markdown",
   "id": "de26be83-6e0a-431c-853c-df50c523bd7a",
   "metadata": {},
   "source": [
    "### 20 percent test set"
   ]
  },
  {
   "cell_type": "code",
   "execution_count": null,
   "id": "6834a158-5acd-460a-902d-4e836a65f763",
   "metadata": {},
   "outputs": [],
   "source": [
    "train_df,test_df = train_test_split(df,test_size=0.2, stratify=df['Name'], random_state = 42 )\n",
    "\n",
    "val_counts = train_df['Name'].value_counts()\n",
    "\n",
    "majority_class_label = val_counts.idxmax()\n",
    "minority_class_label = val_counts.idxmin()\n",
    "\n",
    "X_train, y_train = train_df.drop('Name',axis=1), train_df['Name']\n",
    "X_test, y_test =  test_df.drop('Name',axis=1), test_df['Name']\n",
    "\n",
    "print(f'X_train ---> {minority_class_label} :',len([ label for label in y_train if label == minority_class_label]),end = '\\t')\n",
    "print(f'{majority_class_label} :',len( [ label for label in y_train if label == majority_class_label] ))\n",
    "\n",
    "print(f'X_test ---> {minority_class_label} :',len([ label for label in y_test if label == minority_class_label]),end = '\\t')\n",
    "print(f'{majority_class_label} :',len( [ label for label in y_test if label == majority_class_label] ))"
   ]
  },
  {
   "cell_type": "markdown",
   "id": "8cedf415-a7d8-4e87-9f55-27716640c0fe",
   "metadata": {},
   "source": [
    "### Model Training"
   ]
  },
  {
   "cell_type": "code",
   "execution_count": null,
   "id": "6ee4d6d3-197b-416b-9ccb-b5c94d509ff2",
   "metadata": {},
   "outputs": [],
   "source": [
    "xgb_model = xgb.XGBClassifier(\n",
    "    # **best_params\n",
    "    random_state = 42\n",
    ")\n",
    "xgb_model.fit(X_train, y_train, verbose=0)"
   ]
  },
  {
   "cell_type": "markdown",
   "id": "ec2ae371-a541-4d89-8691-fd3c04d69f2e",
   "metadata": {},
   "source": [
    "## Standard Threshold thres = 0.5"
   ]
  },
  {
   "cell_type": "code",
   "execution_count": null,
   "id": "5c38855f-a134-4040-a61f-011f18ff561d",
   "metadata": {},
   "outputs": [],
   "source": [
    "train_performance_df = pd.DataFrame()\n",
    "train_pred_df = pd.DataFrame()"
   ]
  },
  {
   "cell_type": "markdown",
   "id": "49d1b034-05a6-47ca-8814-7ae0c0042f90",
   "metadata": {},
   "source": [
    "### Training Set Performance"
   ]
  },
  {
   "cell_type": "code",
   "execution_count": null,
   "id": "787c0d73-d0d4-4610-b50f-cf86f59c9fc0",
   "metadata": {},
   "outputs": [],
   "source": [
    "pred_prob = xgb_model.predict_proba(X_train)[:,minority_class_label].tolist()\n",
    "y_true = y_train.tolist()\n",
    "y_pred = [minority_class_label if p >= 0.5 else majority_class_label for p in pred_prob]\n",
    "\n",
    "train_pred_df['y_true'] = y_true\n",
    "train_pred_df['pred_prob'] = pred_prob\n",
    "train_pred_df['standard'] = y_pred\n",
    "\n",
    "vals = dict(method = 'Standard', thres = '0.5')\n",
    "temp = evaluate_performance(y_true,y_pred,pred_prob)\n",
    "vals.update(temp)\n",
    "train_performance_df[len(train_performance_df.columns)] = vals\n",
    "train_performance_df"
   ]
  },
  {
   "cell_type": "markdown",
   "id": "e1c67954-0a1e-448c-aa89-61b725f9da32",
   "metadata": {},
   "source": [
    "### Testing Set Performance"
   ]
  },
  {
   "cell_type": "code",
   "execution_count": null,
   "id": "0cc80663-7fb0-4d0e-aecc-f967b4962058",
   "metadata": {},
   "outputs": [],
   "source": [
    "test_performance_df = pd.DataFrame()\n",
    "test_pred_df = pd.DataFrame()"
   ]
  },
  {
   "cell_type": "code",
   "execution_count": null,
   "id": "16e823ac-5b44-432c-ae45-52fd9da91330",
   "metadata": {},
   "outputs": [],
   "source": [
    "pred_prob = xgb_model.predict_proba(X_test)[:,minority_class_label].tolist()\n",
    "y_true = y_test.tolist() \n",
    "y_pred = [ minority_class_label if p >= 0.5 else majority_class_label for p in pred_prob ]\n",
    "\n",
    "test_pred_df['y_true'] = y_true\n",
    "test_pred_df['pred_prob'] = pred_prob\n",
    "test_pred_df['standard'] = y_pred\n",
    "\n",
    "vals = dict(method = 'Standard', thres = '0.5')\n",
    "temp = evaluate_performance(y_true,y_pred,pred_prob)\n",
    "\n",
    "vals.update(temp)\n",
    "test_performance_df[len(test_performance_df.columns)] = vals\n",
    "test_performance_df"
   ]
  },
  {
   "cell_type": "markdown",
   "id": "3dc851a3-62b2-430a-8779-d8829d48d555",
   "metadata": {},
   "source": [
    "# M-Tune"
   ]
  },
  {
   "cell_type": "code",
   "execution_count": null,
   "id": "e63a9698-b653-4a89-88da-f9ad87dabd34",
   "metadata": {},
   "outputs": [],
   "source": [
    "mean_thres = train_pred_df['pred_prob'].mean()\n",
    "mean_thres"
   ]
  },
  {
   "cell_type": "code",
   "execution_count": null,
   "id": "b54117c3-6c94-4709-bee6-3f6eaca5ebea",
   "metadata": {},
   "outputs": [],
   "source": [
    "train_pred_df.head()"
   ]
  },
  {
   "cell_type": "markdown",
   "id": "e1713c2e-8642-4240-8a56-38919100efb1",
   "metadata": {},
   "source": [
    "### Training set Performance"
   ]
  },
  {
   "cell_type": "code",
   "execution_count": null,
   "id": "4d44a754",
   "metadata": {},
   "outputs": [],
   "source": [
    "train_pred_df['M-Tune'] = [minority_class_label if p >= mean_thres else majority_class_label for p in train_pred_df['pred_prob'].tolist() ]\n",
    "\n",
    "pred_prob = train_pred_df['pred_prob'].tolist()\n",
    "y_true = train_pred_df['y_true'].tolist()\n",
    "y_pred = train_pred_df['M-Tune'].tolist()\n",
    "\n",
    "vals = dict(method = 'M-Tune', thres = mean_thres)\n",
    "temp = evaluate_performance(y_true,y_pred,pred_prob)\n",
    "\n",
    "vals.update(temp)\n",
    "train_performance_df[len(train_performance_df.columns)] = vals\n",
    "train_performance_df"
   ]
  },
  {
   "cell_type": "markdown",
   "id": "1b276111-2b81-4dd9-a278-e95edc87f148",
   "metadata": {},
   "source": [
    "### Testing Set Performance"
   ]
  },
  {
   "cell_type": "code",
   "execution_count": null,
   "id": "6a3623bb-9367-4076-aa00-83283dac81cf",
   "metadata": {},
   "outputs": [],
   "source": [
    "test_pred_df['M-Tune'] = [minority_class_label if p >= mean_thres else majority_class_label for p in test_pred_df['pred_prob'].tolist() ]\n",
    "\n",
    "pred_prob = test_pred_df['pred_prob'].tolist()\n",
    "y_true = test_pred_df['y_true'].tolist()\n",
    "y_pred = test_pred_df['M-Tune'].tolist()\n",
    "\n",
    "vals = dict(method = 'M-Tune', thres = mean_thres)\n",
    "temp = evaluate_performance(y_true,y_pred,pred_prob)\n",
    "\n",
    "vals.update(temp)\n",
    "test_performance_df[len(test_performance_df.columns)] = vals\n",
    "test_performance_df"
   ]
  },
  {
   "cell_type": "markdown",
   "id": "7751e9c3-6e32-4320-bc0d-c87645cbde5c",
   "metadata": {},
   "source": [
    "# Visualization"
   ]
  },
  {
   "cell_type": "code",
   "execution_count": null,
   "id": "873626e0-512c-4d6f-9d8c-f90c5f793fbe",
   "metadata": {},
   "outputs": [],
   "source": [
    "# Extracting Classwise Prediction Probabilities\n",
    "pred_proba = train_pred_df['pred_prob']\n",
    "data0 = train_pred_df[train_pred_df['y_true']==0]['pred_prob']\n",
    "data1 = train_pred_df[train_pred_df['y_true']==1]['pred_prob']"
   ]
  },
  {
   "cell_type": "code",
   "execution_count": null,
   "id": "003d54a7-3124-44ab-87c6-4cccfa6835e1",
   "metadata": {},
   "outputs": [],
   "source": [
    "# Set the style for the plot\n",
    "sns.set(style=\"darkgrid\")\n",
    "\n",
    "# Create a distribution plot\n",
    "sns.histplot(pred_proba, kde=True\n",
    "             #,label='Predicted Probabilities'\n",
    "            )\n",
    "\n",
    "# Add labels and title\n",
    "plt.xlabel('Value')\n",
    "plt.ylabel('Frequency')\n",
    "plt.title('Distribution Plot for NumPy Array')\n",
    "plt.grid(False)\n",
    "#plt.legend()\n",
    "plt.savefig('TGF-B-AtomPairs2DCount - Pred-Prob.png',dpi=300)\n",
    "# Show the plot\n",
    "plt.show()"
   ]
  },
  {
   "cell_type": "markdown",
   "id": "96e823a7-6ee4-458c-9f85-310eca199caa",
   "metadata": {},
   "source": [
    "## Zooming in on Scale"
   ]
  },
  {
   "cell_type": "code",
   "execution_count": null,
   "id": "d1187020-870a-4190-8299-4262d8f4ac71",
   "metadata": {},
   "outputs": [],
   "source": [
    "upper_limit = 0.015\n",
    "upper_limit = 0.07\n",
    "\n",
    "# Filter the array to include only values between 0 and upper limit\n",
    "filtered_data = pred_proba[(pred_proba >= 0) & (pred_proba <= upper_limit)]\n",
    "\n",
    "# Plot the distribution using Seaborn\n",
    "plt.figure(figsize=(10, 6),facecolor='w')\n",
    "sns.histplot(filtered_data, bins=100, kde=True,stat='count')\n",
    "plt.title(f'Distribution of Values Between 0 and {upper_limit}')\n",
    "plt.xlabel('Probability')\n",
    "plt.ylabel('Frequency')\n",
    "\n",
    "plt.axvline(\n",
    "    x=mean_thres,\n",
    "    color ='b' , \n",
    "    linestyle='--',\n",
    "    linewidth=2\n",
    "    #,label= f\"Mean - {round(t.loc['mean','whole'],4)}\"\n",
    ")\n",
    "plt.grid(False)\n",
    "\n",
    "# plt.legend()\n",
    "plt.savefig('TGF-B-AtomPairs2DCount - Zoomed-Pred-Prob.png',dpi=300)\n",
    "plt.show()"
   ]
  },
  {
   "cell_type": "code",
   "execution_count": null,
   "id": "6390c4fb",
   "metadata": {},
   "outputs": [],
   "source": [
    "lower_limit = 0\n",
    "upper_limit = 0.07\n",
    "\n",
    "# Filter the array to include only values between 0 and 0.1\n",
    "filtered_data0 = data0[(data0 >= lower_limit) & (data0 <= upper_limit)]\n",
    "filtered_data1 = data1[(data1 >= lower_limit) & (data1 <= upper_limit)]\n",
    "\n",
    "# Plot the distributions\n",
    "plt.figure(figsize=(10, 6),facecolor='white')\n",
    "# plt.style.use('seaborn-white')\n",
    "\n",
    "# Plot for the first dataset\n",
    "sns.histplot(\n",
    "    #data0, \n",
    "    filtered_data0,\n",
    "    bins=100, kde=True, color='blue',  label='Label 0', stat=\"density\"\n",
    ")\n",
    "\n",
    "# Plot for the second dataset\n",
    "sns.histplot(\n",
    "    #data1, \n",
    "    filtered_data1,\n",
    "    bins=100, kde=True, color='red',  label='Label 1', stat=\"density\"\n",
    ")\n",
    "\n",
    "# Add labels and title\n",
    "plt.xlabel('Probability')\n",
    "plt.ylabel('Density')\n",
    "plt.title('Distribution Plot for Two Arrays')\n",
    "plt.legend()\n",
    "\n",
    "plt.axvline(\n",
    "    x=mean_thres,\n",
    "    color ='g' , \n",
    "    linestyle='--',\n",
    "    linewidth=2,\n",
    "    label = f\"Mean - {round(mean_thres,4)}\"\n",
    ")\n",
    "plt.legend()\n",
    "plt.grid(False)\n",
    "plt.savefig('TGF-B-AtomPairs2DCount - Zoomed Class-wise-Prediction Probabality.png', dpi = 300 )\n",
    "# Show the plot\n",
    "plt.show()"
   ]
  },
  {
   "cell_type": "markdown",
   "id": "36250134",
   "metadata": {},
   "source": [
    "## TP - Frequency"
   ]
  },
  {
   "cell_type": "code",
   "execution_count": null,
   "id": "83a5dc85",
   "metadata": {},
   "outputs": [],
   "source": [
    "upper_limit = 0.03\n",
    "\n",
    "def plot_distribution(data, title,figname,upper_limit=1):\n",
    "    filtered_data = data[(data >= 0) & (data <= upper_limit)]\n",
    "    \n",
    "    plt.figure(figsize=(10, 6))\n",
    "    sns.histplot(filtered_data, bins=100, kde=True, stat = 'count')\n",
    "    plt.title(title)\n",
    "    plt.xlabel('Probability')\n",
    "    plt.ylabel('Frequency')\n",
    "    plt.axvline(x=mean_thres,color ='b' , linestyle='--',linewidth=2,\n",
    "                #label=f\"Mean - {round(t.loc['mean','whole'],4)}\"\n",
    "               )\n",
    "    plt.grid(False)\n",
    "    plt.savefig(figname+'.png',dpi=300)\n",
    "    #plt.legend()\n",
    "    plt.show()"
   ]
  },
  {
   "cell_type": "code",
   "execution_count": null,
   "id": "8a9e96a7-e2ac-4883-8f15-9a775888db55",
   "metadata": {},
   "outputs": [],
   "source": [
    "confusion_matrix(test_pred_df['y_true'].tolist(),test_pred_df['M-Tune'].tolist())"
   ]
  },
  {
   "cell_type": "code",
   "execution_count": null,
   "id": "0d702493",
   "metadata": {},
   "outputs": [],
   "source": [
    "# Filter for true positives\n",
    "tp = test_pred_df[\n",
    "    (test_pred_df['y_true'] == 1) & \n",
    "    (test_pred_df['M-Tune'] == test_pred_df['y_true'])\n",
    "]"
   ]
  },
  {
   "cell_type": "code",
   "execution_count": null,
   "id": "d455e92b",
   "metadata": {},
   "outputs": [],
   "source": [
    "#Plotting TP distribution\n",
    "print(len(tp))\n",
    "plot_distribution(tp['pred_prob'], f'Distribution of True Positives','TGF-B-AtomPairs2DCount_TP')"
   ]
  },
  {
   "cell_type": "code",
   "execution_count": null,
   "id": "8d7ae268",
   "metadata": {},
   "outputs": [],
   "source": [
    "# Filter for true negatives\n",
    "tn = test_pred_df[\n",
    "    (test_pred_df['y_true'] == 0) & \n",
    "    (test_pred_df['M-Tune'] == test_pred_df['y_true'])\n",
    "]"
   ]
  },
  {
   "cell_type": "code",
   "execution_count": null,
   "id": "7353d419",
   "metadata": {},
   "outputs": [],
   "source": [
    "print(len(tn))\n",
    "#Plotting TN distribution\n",
    "plot_distribution(tn['pred_prob'], 'Distribution of True Negatives','TGF-B-AtomPairs2DCount_TN',upper_limit=0.010)"
   ]
  },
  {
   "cell_type": "code",
   "execution_count": null,
   "id": "7443f1e6",
   "metadata": {},
   "outputs": [],
   "source": [
    "# Filter for false positives\n",
    "fp = test_pred_df[\n",
    "    (test_pred_df['y_true'] == 0) & \n",
    "    (test_pred_df['M-Tune'] != test_pred_df['y_true'])\n",
    "]"
   ]
  },
  {
   "cell_type": "code",
   "execution_count": null,
   "id": "3e70b091",
   "metadata": {},
   "outputs": [],
   "source": [
    "#Plotting FP distribution\n",
    "print(len(fp))\n",
    "plot_distribution(fp['pred_prob'], 'Distribution of False Positives','TGF-B-AtomPairs2DCount_FP')"
   ]
  },
  {
   "cell_type": "code",
   "execution_count": null,
   "id": "eae8d647",
   "metadata": {},
   "outputs": [],
   "source": [
    "# Filter for false negatives\n",
    "fn = test_pred_df[\n",
    "    (test_pred_df['y_true'] == 1) & \n",
    "    (test_pred_df['M-Tune'] != test_pred_df['y_true'])\n",
    "]"
   ]
  },
  {
   "cell_type": "code",
   "execution_count": null,
   "id": "e5ec2c03",
   "metadata": {},
   "outputs": [],
   "source": [
    "#Plotting FN distribution\n",
    "print(len(fn))\n",
    "plot_distribution(fn['pred_prob'], 'Distribution of False Negatives','TGF-B-AtomPairs2DCount_FN')"
   ]
  },
  {
   "cell_type": "markdown",
   "id": "c550f1bd-eaab-4a53-8bae-9adc41b3a827",
   "metadata": {},
   "source": [
    "## External Dataset Evaluation"
   ]
  },
  {
   "cell_type": "code",
   "execution_count": null,
   "id": "15875eed-92f4-492c-8beb-6d79061b00b3",
   "metadata": {},
   "outputs": [],
   "source": [
    "# ext_df = pd.read_csv('/path/to/fingerprint.csv')\n",
    "ext_df = pd.read_csv(r'E:\\HILLUL\\Nagamani Sir\\TAPOS-KU-INTERN\\COMPILING-MTUNE-REQUIREMENTS\\1 Cell-Line Dataset ghost VS mtune\\TGF-B External FP\\External_AtomPairs2DCount.csv')\n",
    "ext_df"
   ]
  },
  {
   "cell_type": "code",
   "execution_count": null,
   "id": "fb3be44b-31f7-4e01-8231-77bb60287fef",
   "metadata": {},
   "outputs": [],
   "source": [
    "ext_X = ext_df.drop('Name', axis=1)\n",
    "ext_y = ext_df['Name']"
   ]
  },
  {
   "cell_type": "code",
   "execution_count": null,
   "id": "ee5f1de4-7868-4214-ab58-dcba68446b0e",
   "metadata": {},
   "outputs": [],
   "source": [
    "ext_pred_df = pd.DataFrame()\n",
    "ext_pred_df['y_true'] = ext_y.tolist()\n",
    "ext_pred_df['pred_prob'] = xgb_model.predict_proba(ext_X)[:,minority_class_label].tolist()\n",
    "ext_pred_df['Standard'] = [minority_class_label if p>= 0.5 else majority_class_label for p in ext_pred_df['pred_prob'].tolist() ]\n",
    "ext_pred_df['M-Tune'] = [minority_class_label if p>= mean_thres else majority_class_label for p in ext_pred_df['pred_prob'].tolist() ]\n",
    "ext_pred_df"
   ]
  },
  {
   "cell_type": "code",
   "execution_count": null,
   "id": "e5d2923d-195f-45ee-be23-adc508b7dda7",
   "metadata": {},
   "outputs": [],
   "source": [
    "ext_preformance_df = pd.DataFrame()"
   ]
  },
  {
   "cell_type": "code",
   "execution_count": null,
   "id": "e4b7e494-0001-4950-9c70-4d9564fe89ff",
   "metadata": {},
   "outputs": [],
   "source": [
    "y_true = ext_pred_df['y_true'].tolist()\n",
    "y_pred = ext_pred_df['Standard'].tolist()\n",
    "pred_prob = ext_pred_df['pred_prob'].tolist()\n",
    "\n",
    "vals = dict(method = 'Standard',thres= 0.5)\n",
    "temp = evaluate_performance(y_true, y_pred, pred_prob ) \n",
    "vals.update(temp)\n",
    "ext_preformance_df[len(ext_preformance_df.columns)] = vals\n",
    "ext_preformance_df"
   ]
  },
  {
   "cell_type": "code",
   "execution_count": null,
   "id": "a844213e-78ff-4aba-8c50-3f0a68c6a65b",
   "metadata": {},
   "outputs": [],
   "source": [
    "y_true = ext_pred_df['y_true'].tolist()\n",
    "y_pred = ext_pred_df['M-Tune'].tolist()\n",
    "pred_prob = ext_pred_df['pred_prob'].tolist()\n",
    "\n",
    "vals = dict(method = 'M-Tune',thres= mean_thres)\n",
    "temp = evaluate_performance(y_true, y_pred, pred_prob) \n",
    "vals.update(temp)\n",
    "ext_preformance_df[len(ext_preformance_df.columns)] = vals\n",
    "ext_preformance_df"
   ]
  },
  {
   "cell_type": "code",
   "execution_count": null,
   "id": "5792a5de-dd27-440a-a0fe-d08f6af6f769",
   "metadata": {},
   "outputs": [],
   "source": []
  }
 ],
 "metadata": {
  "kernelspec": {
   "display_name": "Python 3 (ipykernel)",
   "language": "python",
   "name": "python3"
  },
  "language_info": {
   "codemirror_mode": {
    "name": "ipython",
    "version": 3
   },
   "file_extension": ".py",
   "mimetype": "text/x-python",
   "name": "python",
   "nbconvert_exporter": "python",
   "pygments_lexer": "ipython3",
   "version": "3.11.4"
  }
 },
 "nbformat": 4,
 "nbformat_minor": 5
}
