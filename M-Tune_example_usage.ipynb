{
 "cells": [
  {
   "cell_type": "markdown",
   "id": "22da3bda-5fa2-4ea0-8d97-135ae699bdf1",
   "metadata": {},
   "source": [
    "# Install M-Tune"
   ]
  },
  {
   "cell_type": "code",
   "execution_count": 1,
   "id": "f27087ae-3d6c-4caf-944e-11bbda8ede6f",
   "metadata": {},
   "outputs": [],
   "source": [
    "pip install mtune"
   ]
  },
  {
   "cell_type": "markdown",
   "id": "647751bc-eb34-4604-b99a-d874a10093c5",
   "metadata": {},
   "source": [
    "# Import mtune and base Classifier"
   ]
  },
  {
   "cell_type": "code",
   "execution_count": 3,
   "id": "b8e7b8a4-5deb-4a6e-9b36-f69880c90cb4",
   "metadata": {},
   "outputs": [],
   "source": [
    "from mtune import mtune\n",
    "from xgboost import XGBClassifier"
   ]
  },
  {
   "cell_type": "code",
   "execution_count": 8,
   "id": "b064a25b-4845-44f0-9ea3-9a20c180a12e",
   "metadata": {},
   "outputs": [],
   "source": [
    "import pandas as pd\n",
    "from sklearn.metrics import classification_report\n",
    "from sklearn.model_selection import train_test_split"
   ]
  },
  {
   "cell_type": "markdown",
   "id": "a4525905-6ba2-4881-a9b9-bb9e1d6fbbd0",
   "metadata": {},
   "source": [
    "# Load your imbalanced data"
   ]
  },
  {
   "cell_type": "code",
   "execution_count": 6,
   "id": "4e834291-b8e7-4da7-93e7-9fb0136b752d",
   "metadata": {
    "scrolled": true
   },
   "outputs": [
    {
     "data": {
      "text/html": [
       "<div>\n",
       "<style scoped>\n",
       "    .dataframe tbody tr th:only-of-type {\n",
       "        vertical-align: middle;\n",
       "    }\n",
       "\n",
       "    .dataframe tbody tr th {\n",
       "        vertical-align: top;\n",
       "    }\n",
       "\n",
       "    .dataframe thead th {\n",
       "        text-align: right;\n",
       "    }\n",
       "</style>\n",
       "<table border=\"1\" class=\"dataframe\">\n",
       "  <thead>\n",
       "    <tr style=\"text-align: right;\">\n",
       "      <th></th>\n",
       "      <th>Activity</th>\n",
       "      <th>EStateFP1</th>\n",
       "      <th>EStateFP2</th>\n",
       "      <th>EStateFP3</th>\n",
       "      <th>EStateFP4</th>\n",
       "      <th>EStateFP5</th>\n",
       "      <th>EStateFP6</th>\n",
       "      <th>EStateFP7</th>\n",
       "      <th>EStateFP8</th>\n",
       "      <th>EStateFP9</th>\n",
       "      <th>...</th>\n",
       "      <th>EStateFP70</th>\n",
       "      <th>EStateFP71</th>\n",
       "      <th>EStateFP72</th>\n",
       "      <th>EStateFP73</th>\n",
       "      <th>EStateFP74</th>\n",
       "      <th>EStateFP75</th>\n",
       "      <th>EStateFP76</th>\n",
       "      <th>EStateFP77</th>\n",
       "      <th>EStateFP78</th>\n",
       "      <th>EStateFP79</th>\n",
       "    </tr>\n",
       "  </thead>\n",
       "  <tbody>\n",
       "    <tr>\n",
       "      <th>0</th>\n",
       "      <td>0</td>\n",
       "      <td>0</td>\n",
       "      <td>0</td>\n",
       "      <td>0</td>\n",
       "      <td>0</td>\n",
       "      <td>0</td>\n",
       "      <td>0</td>\n",
       "      <td>1</td>\n",
       "      <td>1</td>\n",
       "      <td>1</td>\n",
       "      <td>...</td>\n",
       "      <td>0</td>\n",
       "      <td>0</td>\n",
       "      <td>0</td>\n",
       "      <td>0</td>\n",
       "      <td>0</td>\n",
       "      <td>0</td>\n",
       "      <td>0</td>\n",
       "      <td>0</td>\n",
       "      <td>0</td>\n",
       "      <td>0</td>\n",
       "    </tr>\n",
       "    <tr>\n",
       "      <th>1</th>\n",
       "      <td>0</td>\n",
       "      <td>0</td>\n",
       "      <td>0</td>\n",
       "      <td>0</td>\n",
       "      <td>0</td>\n",
       "      <td>0</td>\n",
       "      <td>0</td>\n",
       "      <td>1</td>\n",
       "      <td>1</td>\n",
       "      <td>1</td>\n",
       "      <td>...</td>\n",
       "      <td>0</td>\n",
       "      <td>0</td>\n",
       "      <td>0</td>\n",
       "      <td>0</td>\n",
       "      <td>0</td>\n",
       "      <td>0</td>\n",
       "      <td>0</td>\n",
       "      <td>0</td>\n",
       "      <td>0</td>\n",
       "      <td>0</td>\n",
       "    </tr>\n",
       "    <tr>\n",
       "      <th>2</th>\n",
       "      <td>0</td>\n",
       "      <td>0</td>\n",
       "      <td>0</td>\n",
       "      <td>0</td>\n",
       "      <td>0</td>\n",
       "      <td>0</td>\n",
       "      <td>0</td>\n",
       "      <td>1</td>\n",
       "      <td>0</td>\n",
       "      <td>0</td>\n",
       "      <td>...</td>\n",
       "      <td>0</td>\n",
       "      <td>0</td>\n",
       "      <td>0</td>\n",
       "      <td>0</td>\n",
       "      <td>0</td>\n",
       "      <td>0</td>\n",
       "      <td>0</td>\n",
       "      <td>0</td>\n",
       "      <td>0</td>\n",
       "      <td>0</td>\n",
       "    </tr>\n",
       "    <tr>\n",
       "      <th>3</th>\n",
       "      <td>0</td>\n",
       "      <td>0</td>\n",
       "      <td>0</td>\n",
       "      <td>0</td>\n",
       "      <td>0</td>\n",
       "      <td>0</td>\n",
       "      <td>0</td>\n",
       "      <td>1</td>\n",
       "      <td>0</td>\n",
       "      <td>0</td>\n",
       "      <td>...</td>\n",
       "      <td>0</td>\n",
       "      <td>0</td>\n",
       "      <td>0</td>\n",
       "      <td>0</td>\n",
       "      <td>0</td>\n",
       "      <td>0</td>\n",
       "      <td>0</td>\n",
       "      <td>0</td>\n",
       "      <td>0</td>\n",
       "      <td>0</td>\n",
       "    </tr>\n",
       "    <tr>\n",
       "      <th>4</th>\n",
       "      <td>0</td>\n",
       "      <td>0</td>\n",
       "      <td>0</td>\n",
       "      <td>0</td>\n",
       "      <td>0</td>\n",
       "      <td>0</td>\n",
       "      <td>0</td>\n",
       "      <td>1</td>\n",
       "      <td>0</td>\n",
       "      <td>1</td>\n",
       "      <td>...</td>\n",
       "      <td>0</td>\n",
       "      <td>0</td>\n",
       "      <td>0</td>\n",
       "      <td>0</td>\n",
       "      <td>0</td>\n",
       "      <td>0</td>\n",
       "      <td>0</td>\n",
       "      <td>0</td>\n",
       "      <td>0</td>\n",
       "      <td>0</td>\n",
       "    </tr>\n",
       "  </tbody>\n",
       "</table>\n",
       "<p>5 rows × 80 columns</p>\n",
       "</div>"
      ],
      "text/plain": [
       "   Activity  EStateFP1  EStateFP2  EStateFP3  EStateFP4  EStateFP5  EStateFP6  \\\n",
       "0         0          0          0          0          0          0          0   \n",
       "1         0          0          0          0          0          0          0   \n",
       "2         0          0          0          0          0          0          0   \n",
       "3         0          0          0          0          0          0          0   \n",
       "4         0          0          0          0          0          0          0   \n",
       "\n",
       "   EStateFP7  EStateFP8  EStateFP9  ...  EStateFP70  EStateFP71  EStateFP72  \\\n",
       "0          1          1          1  ...           0           0           0   \n",
       "1          1          1          1  ...           0           0           0   \n",
       "2          1          0          0  ...           0           0           0   \n",
       "3          1          0          0  ...           0           0           0   \n",
       "4          1          0          1  ...           0           0           0   \n",
       "\n",
       "   EStateFP73  EStateFP74  EStateFP75  EStateFP76  EStateFP77  EStateFP78  \\\n",
       "0           0           0           0           0           0           0   \n",
       "1           0           0           0           0           0           0   \n",
       "2           0           0           0           0           0           0   \n",
       "3           0           0           0           0           0           0   \n",
       "4           0           0           0           0           0           0   \n",
       "\n",
       "   EStateFP79  \n",
       "0           0  \n",
       "1           0  \n",
       "2           0  \n",
       "3           0  \n",
       "4           0  \n",
       "\n",
       "[5 rows x 80 columns]"
      ]
     },
     "execution_count": 6,
     "metadata": {},
     "output_type": "execute_result"
    }
   ],
   "source": [
    "data_path = 'path/to/your/data.csv'\n",
    "fp_df = pd.read_csv(data_path)\n",
    "fp_df.head()"
   ]
  },
  {
   "cell_type": "code",
   "execution_count": 9,
   "id": "426a2ca9-be90-4a32-b6d1-e9715b46f861",
   "metadata": {},
   "outputs": [],
   "source": [
    "seed = 42 # Set a seed for reproducibility (e.g., 42)\n",
    "fp_df = fp_df.sample(frac=1, random_state = seed )\n",
    "train_df,test_df = train_test_split(fp_df, test_size = 0.2, stratify = fp_df['Activity'], random_state = 42 )\n",
    "\n",
    "# Split input features and output label\n",
    "X_train, y_train = train_df.drop('Activity',axis=1),train_df['Activity'] \n",
    "X_test, y_test =  test_df.drop('Activity',axis=1),test_df['Activity']"
   ]
  },
  {
   "cell_type": "markdown",
   "id": "3fcc73df-d8db-437e-9121-cfc3ce97aee9",
   "metadata": {},
   "source": [
    "# Please note  \n",
    "#### mtune takes pandas '*dataframe*' as input for training and prediction"
   ]
  },
  {
   "cell_type": "markdown",
   "id": "05608a6a-c16d-48ec-a1b5-9a726d75996d",
   "metadata": {},
   "source": [
    "# Direct M-Tune"
   ]
  },
  {
   "cell_type": "markdown",
   "id": "78584981-702c-4355-9571-ccb5c7ebdb5e",
   "metadata": {},
   "source": [
    "### Initialisation"
   ]
  },
  {
   "cell_type": "code",
   "execution_count": 17,
   "id": "d3a34a06-b909-4875-8f8e-dee111b7d2de",
   "metadata": {},
   "outputs": [],
   "source": [
    "xgb_model = XGBClassifier(random_state = 42) # base model\n",
    "\n",
    "direct_mtune_model = mtune( xgb_model, method='direct',random_state= 42)"
   ]
  },
  {
   "cell_type": "markdown",
   "id": "5e0192eb-0495-44b4-b548-a60fa567a8bb",
   "metadata": {},
   "source": [
    "### Training"
   ]
  },
  {
   "cell_type": "code",
   "execution_count": 18,
   "id": "38f3fe27-34b9-4e2f-9d56-d17d19ae0c18",
   "metadata": {},
   "outputs": [],
   "source": [
    "direct_mtune_model.fit(X_train,y_train)"
   ]
  },
  {
   "cell_type": "markdown",
   "id": "9b8304a5-c165-44b6-bf4c-bbf885fe1636",
   "metadata": {},
   "source": [
    "### Prediction and Evaluation"
   ]
  },
  {
   "cell_type": "code",
   "execution_count": 19,
   "id": "668d05fc-97f9-4c1d-8e07-64e7cbb7a1cf",
   "metadata": {},
   "outputs": [
    {
     "name": "stdout",
     "output_type": "stream",
     "text": [
      "              precision    recall  f1-score   support\n",
      "\n",
      "           0       1.00      0.86      0.92      5951\n",
      "           1       0.02      0.54      0.04        37\n",
      "\n",
      "    accuracy                           0.85      5988\n",
      "   macro avg       0.51      0.70      0.48      5988\n",
      "weighted avg       0.99      0.85      0.92      5988\n",
      "\n"
     ]
    }
   ],
   "source": [
    "y_pred = direct_mtune_model.predict(X_test)\n",
    "y_true = y_test\n",
    "\n",
    "print(classification_report(y_true,y_pred))"
   ]
  },
  {
   "cell_type": "markdown",
   "id": "1d76e096-34b9-41a0-9829-a1cff4e66d59",
   "metadata": {},
   "source": [
    "### Displaying Optimized Threshold"
   ]
  },
  {
   "cell_type": "code",
   "execution_count": 20,
   "id": "904fd12d-44d3-4197-802d-77fa26af0c8e",
   "metadata": {},
   "outputs": [
    {
     "data": {
      "text/plain": [
       "0.0062548737"
      ]
     },
     "execution_count": 20,
     "metadata": {},
     "output_type": "execute_result"
    }
   ],
   "source": [
    "direct_mtune_model.threshold"
   ]
  },
  {
   "cell_type": "markdown",
   "id": "d23199f7-99cb-4f03-9449-8f32d078d7bc",
   "metadata": {},
   "source": [
    "# Ensemble M-Tune"
   ]
  },
  {
   "cell_type": "markdown",
   "id": "e4ba2dd5-aff9-4794-a78a-c1f61cdca9fb",
   "metadata": {},
   "source": [
    "### Initialisation"
   ]
  },
  {
   "cell_type": "code",
   "execution_count": 10,
   "id": "95b2884b-8f74-42fb-8bcd-1c6d96db59db",
   "metadata": {},
   "outputs": [],
   "source": [
    "xgb_model = XGBClassifier(random_state = 42) # base model\n",
    "\n",
    "ensemble_mtune_model = mtune( xgb_model, method='ensemble',random_state= 42)"
   ]
  },
  {
   "cell_type": "markdown",
   "id": "e28a383b-fe32-466c-a9d5-e81431ed5680",
   "metadata": {},
   "source": [
    "### Training"
   ]
  },
  {
   "cell_type": "code",
   "execution_count": 11,
   "id": "80c648ed-2b47-48e0-a394-bb4473d8ab20",
   "metadata": {},
   "outputs": [
    {
     "name": "stdout",
     "output_type": "stream",
     "text": [
      "method = ensemble\n"
     ]
    },
    {
     "name": "stderr",
     "output_type": "stream",
     "text": [
      "C:\\Users\\ACDSD7\\AppData\\Local\\Programs\\Python\\Python311\\Lib\\site-packages\\numpy\\core\\fromnumeric.py:57: FutureWarning: 'DataFrame.swapaxes' is deprecated and will be removed in a future version. Please use 'DataFrame.transpose' instead.\n",
      "  return bound(*args, **kwds)\n"
     ]
    }
   ],
   "source": [
    "ensemble_mtune_model.fit(X_train,y_train)"
   ]
  },
  {
   "cell_type": "markdown",
   "id": "70d0dae4-e042-4a2b-a8b7-ef5918897fb9",
   "metadata": {},
   "source": [
    "### Prediction and Evaluation"
   ]
  },
  {
   "cell_type": "code",
   "execution_count": 13,
   "id": "d8c8297f-35f3-40d3-9422-061a33ba4cf0",
   "metadata": {},
   "outputs": [
    {
     "name": "stdout",
     "output_type": "stream",
     "text": [
      "              precision    recall  f1-score   support\n",
      "\n",
      "           0       1.00      0.82      0.90      5951\n",
      "           1       0.02      0.54      0.04        37\n",
      "\n",
      "    accuracy                           0.82      5988\n",
      "   macro avg       0.51      0.68      0.47      5988\n",
      "weighted avg       0.99      0.82      0.90      5988\n",
      "\n"
     ]
    }
   ],
   "source": [
    "y_pred = ensemble_mtune_model.predict(X_test)\n",
    "y_true = y_test\n",
    "\n",
    "print(classification_report(y_true,y_pred))"
   ]
  },
  {
   "cell_type": "markdown",
   "id": "dec2fd57-7d18-4705-a96b-e9cb2ab27541",
   "metadata": {},
   "source": [
    "### Displaying Model to threshold mapping"
   ]
  },
  {
   "cell_type": "code",
   "execution_count": 16,
   "id": "af939269-ab33-4956-a098-afb21c13773e",
   "metadata": {},
   "outputs": [
    {
     "data": {
      "text/plain": [
       "{0.06465364: XGBClassifier(base_score=None, booster=None, callbacks=None,\n",
       "               colsample_bylevel=None, colsample_bynode=None,\n",
       "               colsample_bytree=None, device=None, early_stopping_rounds=None,\n",
       "               enable_categorical=False, eval_metric=None, feature_types=None,\n",
       "               gamma=None, grow_policy=None, importance_type=None,\n",
       "               interaction_constraints=None, learning_rate=None, max_bin=None,\n",
       "               max_cat_threshold=None, max_cat_to_onehot=None,\n",
       "               max_delta_step=None, max_depth=None, max_leaves=None,\n",
       "               min_child_weight=None, missing=nan, monotone_constraints=None,\n",
       "               multi_strategy=None, n_estimators=None, n_jobs=None,\n",
       "               num_parallel_tree=None, random_state=42, ...),\n",
       " 0.064416975: XGBClassifier(base_score=None, booster=None, callbacks=None,\n",
       "               colsample_bylevel=None, colsample_bynode=None,\n",
       "               colsample_bytree=None, device=None, early_stopping_rounds=None,\n",
       "               enable_categorical=False, eval_metric=None, feature_types=None,\n",
       "               gamma=None, grow_policy=None, importance_type=None,\n",
       "               interaction_constraints=None, learning_rate=None, max_bin=None,\n",
       "               max_cat_threshold=None, max_cat_to_onehot=None,\n",
       "               max_delta_step=None, max_depth=None, max_leaves=None,\n",
       "               min_child_weight=None, missing=nan, monotone_constraints=None,\n",
       "               multi_strategy=None, n_estimators=None, n_jobs=None,\n",
       "               num_parallel_tree=None, random_state=42, ...),\n",
       " 0.0644794: XGBClassifier(base_score=None, booster=None, callbacks=None,\n",
       "               colsample_bylevel=None, colsample_bynode=None,\n",
       "               colsample_bytree=None, device=None, early_stopping_rounds=None,\n",
       "               enable_categorical=False, eval_metric=None, feature_types=None,\n",
       "               gamma=None, grow_policy=None, importance_type=None,\n",
       "               interaction_constraints=None, learning_rate=None, max_bin=None,\n",
       "               max_cat_threshold=None, max_cat_to_onehot=None,\n",
       "               max_delta_step=None, max_depth=None, max_leaves=None,\n",
       "               min_child_weight=None, missing=nan, monotone_constraints=None,\n",
       "               multi_strategy=None, n_estimators=None, n_jobs=None,\n",
       "               num_parallel_tree=None, random_state=42, ...),\n",
       " 0.06453356: XGBClassifier(base_score=None, booster=None, callbacks=None,\n",
       "               colsample_bylevel=None, colsample_bynode=None,\n",
       "               colsample_bytree=None, device=None, early_stopping_rounds=None,\n",
       "               enable_categorical=False, eval_metric=None, feature_types=None,\n",
       "               gamma=None, grow_policy=None, importance_type=None,\n",
       "               interaction_constraints=None, learning_rate=None, max_bin=None,\n",
       "               max_cat_threshold=None, max_cat_to_onehot=None,\n",
       "               max_delta_step=None, max_depth=None, max_leaves=None,\n",
       "               min_child_weight=None, missing=nan, monotone_constraints=None,\n",
       "               multi_strategy=None, n_estimators=None, n_jobs=None,\n",
       "               num_parallel_tree=None, random_state=42, ...),\n",
       " 0.06451768: XGBClassifier(base_score=None, booster=None, callbacks=None,\n",
       "               colsample_bylevel=None, colsample_bynode=None,\n",
       "               colsample_bytree=None, device=None, early_stopping_rounds=None,\n",
       "               enable_categorical=False, eval_metric=None, feature_types=None,\n",
       "               gamma=None, grow_policy=None, importance_type=None,\n",
       "               interaction_constraints=None, learning_rate=None, max_bin=None,\n",
       "               max_cat_threshold=None, max_cat_to_onehot=None,\n",
       "               max_delta_step=None, max_depth=None, max_leaves=None,\n",
       "               min_child_weight=None, missing=nan, monotone_constraints=None,\n",
       "               multi_strategy=None, n_estimators=None, n_jobs=None,\n",
       "               num_parallel_tree=None, random_state=42, ...),\n",
       " 0.064536944: XGBClassifier(base_score=None, booster=None, callbacks=None,\n",
       "               colsample_bylevel=None, colsample_bynode=None,\n",
       "               colsample_bytree=None, device=None, early_stopping_rounds=None,\n",
       "               enable_categorical=False, eval_metric=None, feature_types=None,\n",
       "               gamma=None, grow_policy=None, importance_type=None,\n",
       "               interaction_constraints=None, learning_rate=None, max_bin=None,\n",
       "               max_cat_threshold=None, max_cat_to_onehot=None,\n",
       "               max_delta_step=None, max_depth=None, max_leaves=None,\n",
       "               min_child_weight=None, missing=nan, monotone_constraints=None,\n",
       "               multi_strategy=None, n_estimators=None, n_jobs=None,\n",
       "               num_parallel_tree=None, random_state=42, ...),\n",
       " 0.064588815: XGBClassifier(base_score=None, booster=None, callbacks=None,\n",
       "               colsample_bylevel=None, colsample_bynode=None,\n",
       "               colsample_bytree=None, device=None, early_stopping_rounds=None,\n",
       "               enable_categorical=False, eval_metric=None, feature_types=None,\n",
       "               gamma=None, grow_policy=None, importance_type=None,\n",
       "               interaction_constraints=None, learning_rate=None, max_bin=None,\n",
       "               max_cat_threshold=None, max_cat_to_onehot=None,\n",
       "               max_delta_step=None, max_depth=None, max_leaves=None,\n",
       "               min_child_weight=None, missing=nan, monotone_constraints=None,\n",
       "               multi_strategy=None, n_estimators=None, n_jobs=None,\n",
       "               num_parallel_tree=None, random_state=42, ...),\n",
       " 0.064534: XGBClassifier(base_score=None, booster=None, callbacks=None,\n",
       "               colsample_bylevel=None, colsample_bynode=None,\n",
       "               colsample_bytree=None, device=None, early_stopping_rounds=None,\n",
       "               enable_categorical=False, eval_metric=None, feature_types=None,\n",
       "               gamma=None, grow_policy=None, importance_type=None,\n",
       "               interaction_constraints=None, learning_rate=None, max_bin=None,\n",
       "               max_cat_threshold=None, max_cat_to_onehot=None,\n",
       "               max_delta_step=None, max_depth=None, max_leaves=None,\n",
       "               min_child_weight=None, missing=nan, monotone_constraints=None,\n",
       "               multi_strategy=None, n_estimators=None, n_jobs=None,\n",
       "               num_parallel_tree=None, random_state=42, ...),\n",
       " 0.06452582: XGBClassifier(base_score=None, booster=None, callbacks=None,\n",
       "               colsample_bylevel=None, colsample_bynode=None,\n",
       "               colsample_bytree=None, device=None, early_stopping_rounds=None,\n",
       "               enable_categorical=False, eval_metric=None, feature_types=None,\n",
       "               gamma=None, grow_policy=None, importance_type=None,\n",
       "               interaction_constraints=None, learning_rate=None, max_bin=None,\n",
       "               max_cat_threshold=None, max_cat_to_onehot=None,\n",
       "               max_delta_step=None, max_depth=None, max_leaves=None,\n",
       "               min_child_weight=None, missing=nan, monotone_constraints=None,\n",
       "               multi_strategy=None, n_estimators=None, n_jobs=None,\n",
       "               num_parallel_tree=None, random_state=42, ...),\n",
       " 0.06447293: XGBClassifier(base_score=None, booster=None, callbacks=None,\n",
       "               colsample_bylevel=None, colsample_bynode=None,\n",
       "               colsample_bytree=None, device=None, early_stopping_rounds=None,\n",
       "               enable_categorical=False, eval_metric=None, feature_types=None,\n",
       "               gamma=None, grow_policy=None, importance_type=None,\n",
       "               interaction_constraints=None, learning_rate=None, max_bin=None,\n",
       "               max_cat_threshold=None, max_cat_to_onehot=None,\n",
       "               max_delta_step=None, max_depth=None, max_leaves=None,\n",
       "               min_child_weight=None, missing=nan, monotone_constraints=None,\n",
       "               multi_strategy=None, n_estimators=None, n_jobs=None,\n",
       "               num_parallel_tree=None, random_state=42, ...),\n",
       " 0.06453578: XGBClassifier(base_score=None, booster=None, callbacks=None,\n",
       "               colsample_bylevel=None, colsample_bynode=None,\n",
       "               colsample_bytree=None, device=None, early_stopping_rounds=None,\n",
       "               enable_categorical=False, eval_metric=None, feature_types=None,\n",
       "               gamma=None, grow_policy=None, importance_type=None,\n",
       "               interaction_constraints=None, learning_rate=None, max_bin=None,\n",
       "               max_cat_threshold=None, max_cat_to_onehot=None,\n",
       "               max_delta_step=None, max_depth=None, max_leaves=None,\n",
       "               min_child_weight=None, missing=nan, monotone_constraints=None,\n",
       "               multi_strategy=None, n_estimators=None, n_jobs=None,\n",
       "               num_parallel_tree=None, random_state=42, ...)}"
      ]
     },
     "execution_count": 16,
     "metadata": {},
     "output_type": "execute_result"
    }
   ],
   "source": [
    "ensemble_mtune_model.thres_to_model_mapping#.keys()"
   ]
  },
  {
   "cell_type": "code",
   "execution_count": null,
   "id": "ea75dffd-f345-4ed0-b77e-97808755af3e",
   "metadata": {},
   "outputs": [],
   "source": []
  }
 ],
 "metadata": {
  "kernelspec": {
   "display_name": "Python 3 (ipykernel)",
   "language": "python",
   "name": "python3"
  },
  "language_info": {
   "codemirror_mode": {
    "name": "ipython",
    "version": 3
   },
   "file_extension": ".py",
   "mimetype": "text/x-python",
   "name": "python",
   "nbconvert_exporter": "python",
   "pygments_lexer": "ipython3",
   "version": "3.11.4"
  }
 },
 "nbformat": 4,
 "nbformat_minor": 5
}
